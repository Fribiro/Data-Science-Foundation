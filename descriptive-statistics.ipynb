{
 "cells": [
  {
   "cell_type": "code",
   "execution_count": 3,
   "metadata": {},
   "outputs": [
    {
     "name": "stdout",
     "output_type": "stream",
     "text": [
      "    Name   Monthly Salary ($)\n",
      "0  Kamau                 4000\n",
      "1   Rose                 5000\n",
      "2   Mike                 6000\n",
      "3   jeff                 7000\n",
      "4  Susan                 7500\n",
      "5    Bob                 8000\n",
      "6    Ruto            10000000\n"
     ]
    }
   ],
   "source": [
    "import numpy as np\n",
    "import pandas as pd\n",
    "\n",
    "#load dataset\n",
    "data = pd.read_csv('./monthlyincome.csv')\n",
    "\n",
    "print(data)"
   ]
  },
  {
   "cell_type": "code",
   "execution_count": 4,
   "metadata": {},
   "outputs": [
    {
     "name": "stdout",
     "output_type": "stream",
     "text": [
      "1433928.5714285714\n"
     ]
    }
   ],
   "source": [
    "#mean using numpy\n",
    "mean_estimate = np.mean(data['Monthly Salary ($)'].values)\n",
    "print(mean_estimate)"
   ]
  },
  {
   "cell_type": "code",
   "execution_count": 6,
   "metadata": {},
   "outputs": [
    {
     "name": "stdout",
     "output_type": "stream",
     "text": [
      "1433928.5714285714\n"
     ]
    }
   ],
   "source": [
    "#mean using pandas\n",
    "pd.data = pd.DataFrame({'f1': data['Monthly Salary ($)']})\n",
    "mean = pd.data.f1.mean()\n",
    "print(mean)"
   ]
  },
  {
   "cell_type": "code",
   "execution_count": 7,
   "metadata": {},
   "outputs": [
    {
     "name": "stdout",
     "output_type": "stream",
     "text": [
      "7000.0\n"
     ]
    }
   ],
   "source": [
    "#median using numpy\n",
    "median_estimate = np.median(data['Monthly Salary ($)'])\n",
    "print(median_estimate)"
   ]
  },
  {
   "cell_type": "code",
   "execution_count": 13,
   "metadata": {},
   "outputs": [
    {
     "name": "stdout",
     "output_type": "stream",
     "text": [
      "7000.0\n"
     ]
    }
   ],
   "source": [
    "#median using pandas\n",
    "pd_median_data = pd.DataFrame({'f1': data['Monthly Salary ($)']})\n",
    "median = pd_median_data.f1.median()\n",
    "print(median)"
   ]
  },
  {
   "cell_type": "code",
   "execution_count": null,
   "metadata": {},
   "outputs": [],
   "source": []
  }
 ],
 "metadata": {
  "kernelspec": {
   "display_name": "base",
   "language": "python",
   "name": "python3"
  },
  "language_info": {
   "codemirror_mode": {
    "name": "ipython",
    "version": 3
   },
   "file_extension": ".py",
   "mimetype": "text/x-python",
   "name": "python",
   "nbconvert_exporter": "python",
   "pygments_lexer": "ipython3",
   "version": "3.11.5"
  }
 },
 "nbformat": 4,
 "nbformat_minor": 2
}
