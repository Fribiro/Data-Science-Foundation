{
 "cells": [
  {
   "cell_type": "code",
   "execution_count": 3,
   "metadata": {},
   "outputs": [
    {
     "name": "stdout",
     "output_type": "stream",
     "text": [
      "    Name   Monthly Salary ($)\n",
      "0  Kamau                 4000\n",
      "1   Rose                 5000\n",
      "2   Mike                 6000\n",
      "3   jeff                 7000\n",
      "4  Susan                 7500\n",
      "5    Bob                 8000\n",
      "6    Ruto            10000000\n"
     ]
    }
   ],
   "source": [
    "import numpy as np\n",
    "import pandas as pd\n",
    "\n",
    "#load dataset\n",
    "data = pd.read_csv('./monthlyincome.csv')\n",
    "\n",
    "print(data)"
   ]
  },
  {
   "cell_type": "code",
   "execution_count": 4,
   "metadata": {},
   "outputs": [
    {
     "name": "stdout",
     "output_type": "stream",
     "text": [
      "1433928.5714285714\n"
     ]
    }
   ],
   "source": [
    "#mean using numpy\n",
    "mean_estimate = np.mean(data['Monthly Salary ($)'].values)\n",
    "print(mean_estimate)"
   ]
  },
  {
   "cell_type": "code",
   "execution_count": 6,
   "metadata": {},
   "outputs": [
    {
     "name": "stdout",
     "output_type": "stream",
     "text": [
      "1433928.5714285714\n"
     ]
    }
   ],
   "source": [
    "#mean using pandas\n",
    "pd.data = pd.DataFrame({'f1': data['Monthly Salary ($)']})\n",
    "mean = pd.data.f1.mean()\n",
    "print(mean)"
   ]
  },
  {
   "cell_type": "code",
   "execution_count": 7,
   "metadata": {},
   "outputs": [
    {
     "name": "stdout",
     "output_type": "stream",
     "text": [
      "7000.0\n"
     ]
    }
   ],
   "source": [
    "#median using numpy\n",
    "median_estimate = np.median(data['Monthly Salary ($)'])\n",
    "print(median_estimate)"
   ]
  },
  {
   "cell_type": "code",
   "execution_count": 13,
   "metadata": {},
   "outputs": [
    {
     "name": "stdout",
     "output_type": "stream",
     "text": [
      "7000.0\n"
     ]
    }
   ],
   "source": [
    "#median using pandas\n",
    "pd_median_data = pd.DataFrame({'f1': data['Monthly Salary ($)']})\n",
    "median = pd_median_data.f1.median()\n",
    "print(median)"
   ]
  },
  {
   "cell_type": "code",
   "execution_count": 14,
   "metadata": {},
   "outputs": [
    {
     "name": "stdout",
     "output_type": "stream",
     "text": [
      "     0\n",
      "0  cat\n"
     ]
    }
   ],
   "source": [
    "sample_pd = pd.DataFrame(['cat', 'cat', 'parrot'])\n",
    "print(sample_pd.mode())"
   ]
  },
  {
   "cell_type": "code",
   "execution_count": 15,
   "metadata": {},
   "outputs": [
    {
     "name": "stdout",
     "output_type": "stream",
     "text": [
      "12229598316326.531\n"
     ]
    }
   ],
   "source": [
    "#population variance\n",
    "# ddof = denominator\n",
    "Population_Variance = np.var(data['Monthly Salary ($)'], ddof = 0)\n",
    "print(Population_Variance)"
   ]
  },
  {
   "cell_type": "code",
   "execution_count": 16,
   "metadata": {},
   "outputs": [
    {
     "name": "stdout",
     "output_type": "stream",
     "text": [
      "14267864702380.953\n"
     ]
    }
   ],
   "source": [
    "#sample variance\n",
    "Sample_Variance = np.var(data['Monthly Salary ($)'], ddof = 1)\n",
    "print(Sample_Variance)"
   ]
  },
  {
   "cell_type": "code",
   "execution_count": 17,
   "metadata": {},
   "outputs": [
    {
     "name": "stdout",
     "output_type": "stream",
     "text": [
      "3777282.714118835\n"
     ]
    }
   ],
   "source": [
    "#standard deviation (in layman 'square root')\n",
    "sample_std_dev = np.std(data['Monthly Salary ($)'], ddof = 1)\n",
    "print(sample_std_dev)"
   ]
  },
  {
   "cell_type": "code",
   "execution_count": 18,
   "metadata": {},
   "outputs": [
    {
     "name": "stdout",
     "output_type": "stream",
     "text": [
      "10000000\n",
      "4000\n"
     ]
    }
   ],
   "source": [
    "max_value = np.max(data['Monthly Salary ($)'])\n",
    "print(max_value)\n",
    "\n",
    "min_value = np.min(data['Monthly Salary ($)'])\n",
    "print(min_value)"
   ]
  },
  {
   "cell_type": "code",
   "execution_count": 19,
   "metadata": {},
   "outputs": [
    {
     "data": {
      "text/html": [
       "<div>\n",
       "<style scoped>\n",
       "    .dataframe tbody tr th:only-of-type {\n",
       "        vertical-align: middle;\n",
       "    }\n",
       "\n",
       "    .dataframe tbody tr th {\n",
       "        vertical-align: top;\n",
       "    }\n",
       "\n",
       "    .dataframe thead th {\n",
       "        text-align: right;\n",
       "    }\n",
       "</style>\n",
       "<table border=\"1\" class=\"dataframe\">\n",
       "  <thead>\n",
       "    <tr style=\"text-align: right;\">\n",
       "      <th></th>\n",
       "      <th>Monthly Salary ($)</th>\n",
       "    </tr>\n",
       "  </thead>\n",
       "  <tbody>\n",
       "    <tr>\n",
       "      <th>count</th>\n",
       "      <td>7.000000e+00</td>\n",
       "    </tr>\n",
       "    <tr>\n",
       "      <th>mean</th>\n",
       "      <td>1.433929e+06</td>\n",
       "    </tr>\n",
       "    <tr>\n",
       "      <th>std</th>\n",
       "      <td>3.777283e+06</td>\n",
       "    </tr>\n",
       "    <tr>\n",
       "      <th>min</th>\n",
       "      <td>4.000000e+03</td>\n",
       "    </tr>\n",
       "    <tr>\n",
       "      <th>25%</th>\n",
       "      <td>5.500000e+03</td>\n",
       "    </tr>\n",
       "    <tr>\n",
       "      <th>50%</th>\n",
       "      <td>7.000000e+03</td>\n",
       "    </tr>\n",
       "    <tr>\n",
       "      <th>75%</th>\n",
       "      <td>7.750000e+03</td>\n",
       "    </tr>\n",
       "    <tr>\n",
       "      <th>max</th>\n",
       "      <td>1.000000e+07</td>\n",
       "    </tr>\n",
       "  </tbody>\n",
       "</table>\n",
       "</div>"
      ],
      "text/plain": [
       "       Monthly Salary ($)\n",
       "count        7.000000e+00\n",
       "mean         1.433929e+06\n",
       "std          3.777283e+06\n",
       "min          4.000000e+03\n",
       "25%          5.500000e+03\n",
       "50%          7.000000e+03\n",
       "75%          7.750000e+03\n",
       "max          1.000000e+07"
      ]
     },
     "execution_count": 19,
     "metadata": {},
     "output_type": "execute_result"
    }
   ],
   "source": [
    "data.describe()"
   ]
  },
  {
   "cell_type": "code",
   "execution_count": 20,
   "metadata": {},
   "outputs": [
    {
     "name": "stdout",
     "output_type": "stream",
     "text": [
      "       Brand   Price Currency  Color  \\\n",
      "0      other  303.80        $   gray   \n",
      "1       dell  400.00        $  black   \n",
      "2       dell  175.00        $  black   \n",
      "3         hp   85.00        $  black   \n",
      "4       dell  101.25        $  other   \n",
      "...      ...     ...      ...    ...   \n",
      "4178   other  162.20        $  other   \n",
      "4179    acer   93.25        $  other   \n",
      "4180    dell  424.80        $  black   \n",
      "4181      hp   90.94        $  other   \n",
      "4182  lenovo  567.50        $  black   \n",
      "\n",
      "                                               Features  \\\n",
      "0     Backlit Keyboard,  Built-in Microphone,  Built...   \n",
      "1     Backlit Keyboard, Bluetooth, Built-in Micropho...   \n",
      "2     10/100 LAN Card, Backlit Keyboard, Bluetooth, ...   \n",
      "3     Bluetooth, Built-in Microphone, Built-in Webca...   \n",
      "4     10/100 LAN Card, Built-in Microphone, Built-in...   \n",
      "...                                                 ...   \n",
      "4178                                                NaN   \n",
      "4179                                                NaN   \n",
      "4180  Touchscreen,  10/100 LAN Card,  Bluetooth,  Ba...   \n",
      "4181                                                NaN   \n",
      "4182                                                NaN   \n",
      "\n",
      "                    Condition  \\\n",
      "0                         New   \n",
      "1     Very Good - Refurbished   \n",
      "2                        Used   \n",
      "3          Good - Refurbished   \n",
      "4          Good - Refurbished   \n",
      "...                       ...   \n",
      "4178                      New   \n",
      "4179                      New   \n",
      "4180                     Used   \n",
      "4181                      New   \n",
      "4182                Undefined   \n",
      "\n",
      "                                  Condition Description  \\\n",
      "0     A brand-new, unused, unopened, undamaged item ...   \n",
      "1     The item shows minimal wear and is backed by a...   \n",
      "2     An item that has been used previously. The ite...   \n",
      "3     The item shows moderate wear and is backed by ...   \n",
      "4     The item shows moderate wear and is backed by ...   \n",
      "...                                                 ...   \n",
      "4178  A brand-new, unused, unopened, undamaged item ...   \n",
      "4179  A brand-new, unused, unopened, undamaged item ...   \n",
      "4180  An item that has been used previously. The ite...   \n",
      "4181  A brand-new, unused, unopened, undamaged item ...   \n",
      "4182                                          Undefined   \n",
      "\n",
      "                                            Seller Note    GPU  \\\n",
      "0                                             undefined  intel   \n",
      "1     aaa pcs is a microsoft authorized refurbisher ...  intel   \n",
      "2     well kept, fully functional, includes battery,...  intel   \n",
      "3     1-year allstate warranty. the original hp char...  intel   \n",
      "4     laptops is tested & fully working with some si...  other   \n",
      "...                                                 ...    ...   \n",
      "4178                                          undefined  other   \n",
      "4179                                          undefined  other   \n",
      "4180                                          undefined  intel   \n",
      "4181                                          undefined  other   \n",
      "4182                                          undefined  other   \n",
      "\n",
      "                         Processor  ... Height of the Display       OS  \\\n",
      "0                        quad core  ...                1440.0  windows   \n",
      "1     intel core i7 8th generation  ...                1080.0  windows   \n",
      "2              intel core i5-6300u  ...                1080.0  windows   \n",
      "3                  intel celeron n  ...                 768.0   chrome   \n",
      "4     intel core i5 6th generation  ...                 768.0  windows   \n",
      "...                            ...  ...                   ...      ...   \n",
      "4178                     undefined  ...                   NaN  unknown   \n",
      "4179                not applicable  ...                   NaN  unknown   \n",
      "4180  intel core i5 6th generation  ...                1080.0  windows   \n",
      "4181                not applicable  ...                   NaN  unknown   \n",
      "4182                     undefined  ...                   NaN  unknown   \n",
      "\n",
      "     Storage Type  Hard Drive Capacity  Hard Drive Capacity Unit SSD Capacity  \\\n",
      "0             ssd                512.0                        gb          1.0   \n",
      "1             ssd                  2.0                        tb          NaN   \n",
      "2             ssd                500.0                        gb        500.0   \n",
      "3            emmc                 16.0                        gb          NaN   \n",
      "4             ssd                  NaN                   unknown        256.0   \n",
      "...           ...                  ...                       ...          ...   \n",
      "4178      unknown                  NaN                   unknown          NaN   \n",
      "4179      unknown                  NaN                   unknown          NaN   \n",
      "4180      unknown                  NaN                   unknown        120.0   \n",
      "4181      unknown                  NaN                   unknown          NaN   \n",
      "4182      unknown                  NaN                   unknown          NaN   \n",
      "\n",
      "     SSD Capacity Unit  Screen Size (inch) Ram Size  Ram Size Unit  \n",
      "0                   tb                  14      8.0             gb  \n",
      "1              unknown                  14      NaN        unknown  \n",
      "2                   gb                  14     16.0             gb  \n",
      "3              unknown                11.6      4.0             gb  \n",
      "4                   gb                12.5      8.0             gb  \n",
      "...                ...                 ...      ...            ...  \n",
      "4178           unknown                 NaN      NaN        unknown  \n",
      "4179           unknown                 NaN      NaN        unknown  \n",
      "4180                gb                12.5      NaN        unknown  \n",
      "4181           unknown                 NaN      NaN        unknown  \n",
      "4182           unknown                 NaN      NaN        unknown  \n",
      "\n",
      "[4183 rows x 24 columns]\n"
     ]
    }
   ],
   "source": [
    "#ebay laptop purchase analysis\n",
    "laptop_data = pd.read_csv('./EbayPcLaptopsAndNetbooksClean.csv')\n",
    "print(laptop_data)\n"
   ]
  },
  {
   "cell_type": "code",
   "execution_count": 21,
   "metadata": {},
   "outputs": [
    {
     "name": "stdout",
     "output_type": "stream",
     "text": [
      "328.130117140808\n"
     ]
    }
   ],
   "source": [
    "mean_price = np.mean(laptop_data['Price'].values)\n",
    "print(mean_price)"
   ]
  },
  {
   "cell_type": "code",
   "execution_count": 22,
   "metadata": {},
   "outputs": [
    {
     "name": "stdout",
     "output_type": "stream",
     "text": [
      "234.0\n"
     ]
    }
   ],
   "source": [
    "median_price = np.median(laptop_data['Price'])\n",
    "print(median)"
   ]
  },
  {
   "cell_type": "code",
   "execution_count": 26,
   "metadata": {},
   "outputs": [
    {
     "name": "stdout",
     "output_type": "stream",
     "text": [
      "      f1\n",
      "0  200.0\n"
     ]
    }
   ],
   "source": [
    "mode_price = pd.DataFrame({'f1': laptop_data['Price']})\n",
    "print(mode_price.mode())"
   ]
  },
  {
   "cell_type": "code",
   "execution_count": 28,
   "metadata": {},
   "outputs": [
    {
     "data": {
      "text/plain": [
       "count    4183.000000\n",
       "mean      328.130117\n",
       "std       387.640478\n",
       "min         4.420000\n",
       "25%       100.000000\n",
       "50%       234.000000\n",
       "75%       413.200000\n",
       "max      3900.000000\n",
       "Name: Price, dtype: float64"
      ]
     },
     "execution_count": 28,
     "metadata": {},
     "output_type": "execute_result"
    }
   ],
   "source": [
    "laptop_data['Price'].describe()"
   ]
  },
  {
   "cell_type": "code",
   "execution_count": 29,
   "metadata": {},
   "outputs": [
    {
     "name": "stdout",
     "output_type": "stream",
     "text": [
      "150229.21721334988\n"
     ]
    }
   ],
   "source": [
    "laptop_population_var = np.var(laptop_data['Price'], ddof = 0)\n",
    "print(laptop_population_var)"
   ]
  },
  {
   "cell_type": "code",
   "execution_count": 30,
   "metadata": {},
   "outputs": [
    {
     "name": "stdout",
     "output_type": "stream",
     "text": [
      "150265.14002951758\n"
     ]
    }
   ],
   "source": [
    "laptop_sample_var = np.var(laptop_data['Price'], ddof = 1)\n",
    "print(laptop_sample_var)"
   ]
  },
  {
   "cell_type": "code",
   "execution_count": 32,
   "metadata": {},
   "outputs": [
    {
     "name": "stdout",
     "output_type": "stream",
     "text": [
      "387.64047780065175\n"
     ]
    }
   ],
   "source": [
    "laptop_standard_dev = np.std(laptop_data['Price'], ddof = 1)\n",
    "print(laptop_standard_dev)\n"
   ]
  },
  {
   "cell_type": "code",
   "execution_count": 33,
   "metadata": {},
   "outputs": [
    {
     "name": "stdout",
     "output_type": "stream",
     "text": [
      "118.12208619712787\n"
     ]
    }
   ],
   "source": [
    "#coefficient of variance\n",
    "coefficient_variance = np.std(laptop_data['Price']) / np.mean(laptop_data['Price']) * 100\n",
    "print(coefficient_variance)\n",
    "#result shows high variability to the mean. Suggest sdv is relatively high compared to the mean.\n",
    "#Meaning values are widely spreadout from the mean"
   ]
  },
  {
   "cell_type": "code",
   "execution_count": 57,
   "metadata": {},
   "outputs": [
    {
     "name": "stdout",
     "output_type": "stream",
     "text": [
      "0\n"
     ]
    }
   ],
   "source": [
    "#replacing missing values in dataset\n",
    "missing_values = laptop_data.isnull().sum()\n",
    "#print(missing_values)\n",
    "laptop_data_median = laptop_data['Features'].fillna('Field missing value')\n",
    "#print(laptop_data_median)\n",
    "missing_values_1 = laptop_data_median.isnull().sum()\n",
    "print(missing_values_1)\n"
   ]
  }
 ],
 "metadata": {
  "kernelspec": {
   "display_name": "base",
   "language": "python",
   "name": "python3"
  },
  "language_info": {
   "codemirror_mode": {
    "name": "ipython",
    "version": 3
   },
   "file_extension": ".py",
   "mimetype": "text/x-python",
   "name": "python",
   "nbconvert_exporter": "python",
   "pygments_lexer": "ipython3",
   "version": "3.11.5"
  }
 },
 "nbformat": 4,
 "nbformat_minor": 2
}
