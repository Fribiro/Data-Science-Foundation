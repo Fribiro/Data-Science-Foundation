{
 "cells": [
  {
   "cell_type": "code",
   "execution_count": 5,
   "metadata": {},
   "outputs": [
    {
     "name": "stdout",
     "output_type": "stream",
     "text": [
      "[6 6 6 6 6]\n",
      "[-4 -2  0  2  4]\n",
      "[5 8 9 8 5]\n",
      "35\n",
      "[-3  6 -3]\n",
      "[ 20  40  60  80 100]\n"
     ]
    }
   ],
   "source": [
    "import numpy as np\n",
    "\n",
    "list1 = [1,2,3,4,5]\n",
    "list2 = [5,4,3,2,1]\n",
    "\n",
    "#vectors\n",
    "v1 = np.array(list1)\n",
    "v2 = np.array(list2)\n",
    "\n",
    "#in addition the length of the vectors must be the same\n",
    "v_add = v1+v2\n",
    "print(v_add)\n",
    "\n",
    "#in addition order matters\n",
    "v_sub = v1-v2\n",
    "print(v_sub)\n",
    "\n",
    "#multiplication\n",
    "v_mul = v1*v2\n",
    "print(v_mul)\n",
    "\n",
    "#dot product\n",
    "v_dot_product = v1 @ v2\n",
    "print(v_dot_product)\n",
    "\n",
    "#cross product. Must be 2 or 3 dimensional\n",
    "list3 = [1,2,3]\n",
    "list4 = [4,5,6]\n",
    "\n",
    "v_cross = np.cross(list3, list4)\n",
    "print(v_cross)\n",
    "\n",
    "#5 dimensional list multiplied by a scala\n",
    "list5 = [10,20,30,40,50]\n",
    "v3 = np.array(list5)\n",
    "#scala\n",
    "x = 2\n",
    "\n",
    "mult = v3*x\n",
    "print(mult)"
   ]
  }
 ],
 "metadata": {
  "kernelspec": {
   "display_name": "Python 3",
   "language": "python",
   "name": "python3"
  },
  "language_info": {
   "codemirror_mode": {
    "name": "ipython",
    "version": 3
   },
   "file_extension": ".py",
   "mimetype": "text/x-python",
   "name": "python",
   "nbconvert_exporter": "python",
   "pygments_lexer": "ipython3",
   "version": "3.12.0"
  }
 },
 "nbformat": 4,
 "nbformat_minor": 2
}
