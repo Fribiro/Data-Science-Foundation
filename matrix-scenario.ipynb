{
 "cells": [
  {
   "cell_type": "code",
   "execution_count": 14,
   "metadata": {},
   "outputs": [
    {
     "name": "stdout",
     "output_type": "stream",
     "text": [
      "[120000. 195000. 108000.]\n"
     ]
    }
   ],
   "source": [
    "  \n",
    "\n",
    "dep = np.array([0.2,0.3,0.4])\n",
    "asset_value = np.array([[400000,650000,360000],[203000,50600,567890]])\n",
    "\n",
    "# asset_len = 0\n",
    "\n",
    "# for x in range(len(dep)):\n",
    "#     asset_value[asset_len, x] *= dep[x]\n",
    "#     print(asset_value)\n",
    "\n",
    "asset_len = 0\n",
    "result = dep[1] * asset_value[asset_len]\n",
    "\n",
    "print(result)\n"
   ]
  }
 ],
 "metadata": {
  "kernelspec": {
   "display_name": "base",
   "language": "python",
   "name": "python3"
  },
  "language_info": {
   "codemirror_mode": {
    "name": "ipython",
    "version": 3
   },
   "file_extension": ".py",
   "mimetype": "text/x-python",
   "name": "python",
   "nbconvert_exporter": "python",
   "pygments_lexer": "ipython3",
   "version": "3.11.5"
  }
 },
 "nbformat": 4,
 "nbformat_minor": 2
}
