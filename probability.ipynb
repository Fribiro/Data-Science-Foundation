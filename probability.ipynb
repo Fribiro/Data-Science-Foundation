{
 "cells": [
  {
   "cell_type": "code",
   "execution_count": 11,
   "metadata": {},
   "outputs": [
    {
     "name": "stdout",
     "output_type": "stream",
     "text": [
      "(169.3227816152908, 176.6772183847092)\n"
     ]
    }
   ],
   "source": [
    "import numpy as np\n",
    "from scipy import stats\n",
    "from scipy.stats import norm\n",
    "\n",
    "sample_data = np.array([170, 172, 175, 168, 180])\n",
    "\n",
    "confidence_level =0.95\n",
    "\n",
    "# mean height\n",
    "mean = np.mean(sample_data)\n",
    "\n",
    "std_deviation = np.std(sample_data)\n",
    "\n",
    "confidence_interval = stats.norm.interval(confidence_level, loc =mean, scale=std_deviation / np.sqrt(len(sample_data)))\n",
    "print(confidence_interval)"
   ]
  },
  {
   "cell_type": "code",
   "execution_count": 13,
   "metadata": {},
   "outputs": [
    {
     "name": "stdout",
     "output_type": "stream",
     "text": [
      "78.375\n",
      "2.4462982238476156\n",
      "[-1.37963555 -0.15329284  1.07304987 -0.56207374  0.25548807 -0.97085465\n",
      "  1.89061168 -0.15329284]\n",
      "[1. 1. 1. 1. 1. 1. 1. 1.]\n"
     ]
    }
   ],
   "source": [
    "data = np.array([75,78,81,77,79,76,83,78])\n",
    "\n",
    "mean = np.mean(data)\n",
    "print(mean)\n",
    "\n",
    "std_dev = np.std(data)\n",
    "print(std_dev)\n",
    "\n",
    "z_statistic, p_value = stats.zscore(data), stats.norm.cdf(data)\n",
    "\n",
    "print(z_statistic)\n",
    "print(p_value)"
   ]
  },
  {
   "cell_type": "code",
   "execution_count": 1,
   "metadata": {},
   "outputs": [
    {
     "data": {
      "text/plain": [
       "array([-1.39443338, -1.19522861, -1.19522861, -0.19920477,  0.        ,\n",
       "        0.        ,  0.39840954,  0.5976143 ,  1.19522861,  1.79284291])"
      ]
     },
     "execution_count": 1,
     "metadata": {},
     "output_type": "execute_result"
    }
   ],
   "source": [
    "import pandas as pd\n",
    "import numpy as np \n",
    "import scipy.stats as stats \n",
    "import seaborn as sns\n",
    "\n",
    "#getting the zscore\n",
    "data = np.array([6,7,7,12,13,13,15,16,19,22])\n",
    "stats.zscore(data)\n",
    "\n",
    "#results\n",
    "#zero means the zscore is the same as the mean\n",
    "#value 6 in the array is 1.79284291 above the mean\n",
    "#value 22 in the array is 1.79284291 above the mean"
   ]
  },
  {
   "cell_type": "code",
   "execution_count": 4,
   "metadata": {},
   "outputs": [
    {
     "name": "stdout",
     "output_type": "stream",
     "text": [
      "p_value is0.06234783483807342\n",
      "Fail to reject hypothesis\n"
     ]
    }
   ],
   "source": [
    "from scipy.stats import chi2_contingency\n",
    "\n",
    "data = [[201,282,241], [234,242,232]]\n",
    "stat,p, dof, expected = chi2_contingency(data)\n",
    "\n",
    "#alpha is the significance level\n",
    "alpha = 0.05\n",
    "print('p_value is' +str(p))\n",
    "\n",
    "if p <= alpha:\n",
    "    print('Reject hypothesis')\n",
    "else:\n",
    "    print('Fail to reject hypothesis')\n",
    "\n",
    "#our variables do not have a significant relationship"
   ]
  }
 ],
 "metadata": {
  "kernelspec": {
   "display_name": "base",
   "language": "python",
   "name": "python3"
  },
  "language_info": {
   "codemirror_mode": {
    "name": "ipython",
    "version": 3
   },
   "file_extension": ".py",
   "mimetype": "text/x-python",
   "name": "python",
   "nbconvert_exporter": "python",
   "pygments_lexer": "ipython3",
   "version": "0.0.0"
  }
 },
 "nbformat": 4,
 "nbformat_minor": 2
}
