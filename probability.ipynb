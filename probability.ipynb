{
 "cells": [
  {
   "cell_type": "code",
   "execution_count": 11,
   "metadata": {},
   "outputs": [
    {
     "name": "stdout",
     "output_type": "stream",
     "text": [
      "(169.3227816152908, 176.6772183847092)\n"
     ]
    }
   ],
   "source": [
    "import numpy as np\n",
    "from scipy import stats\n",
    "from scipy.stats import norm\n",
    "\n",
    "sample_data = np.array([170, 172, 175, 168, 180])\n",
    "\n",
    "confidence_level =0.95\n",
    "\n",
    "# mean height\n",
    "mean = np.mean(sample_data)\n",
    "\n",
    "std_deviation = np.std(sample_data)\n",
    "\n",
    "confidence_interval = stats.norm.interval(confidence_level, loc =mean, scale=std_deviation / np.sqrt(len(sample_data)))\n",
    "print(confidence_interval)"
   ]
  },
  {
   "cell_type": "code",
   "execution_count": 13,
   "metadata": {},
   "outputs": [
    {
     "name": "stdout",
     "output_type": "stream",
     "text": [
      "78.375\n",
      "2.4462982238476156\n",
      "[-1.37963555 -0.15329284  1.07304987 -0.56207374  0.25548807 -0.97085465\n",
      "  1.89061168 -0.15329284]\n",
      "[1. 1. 1. 1. 1. 1. 1. 1.]\n"
     ]
    }
   ],
   "source": [
    "data = np.array([75,78,81,77,79,76,83,78])\n",
    "\n",
    "mean = np.mean(data)\n",
    "print(mean)\n",
    "\n",
    "std_dev = np.std(data)\n",
    "print(std_dev)\n",
    "\n",
    "z_statistic, p_value = stats.zscore(data), stats.norm.cdf(data)\n",
    "\n",
    "print(z_statistic)\n",
    "print(p_value)"
   ]
  },
  {
   "cell_type": "code",
   "execution_count": null,
   "metadata": {},
   "outputs": [],
   "source": []
  }
 ],
 "metadata": {
  "kernelspec": {
   "display_name": "base",
   "language": "python",
   "name": "python3"
  },
  "language_info": {
   "codemirror_mode": {
    "name": "ipython",
    "version": 3
   },
   "file_extension": ".py",
   "mimetype": "text/x-python",
   "name": "python",
   "nbconvert_exporter": "python",
   "pygments_lexer": "ipython3",
   "version": "3.11.5"
  }
 },
 "nbformat": 4,
 "nbformat_minor": 2
}
