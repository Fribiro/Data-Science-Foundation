{
 "cells": [
  {
   "cell_type": "code",
   "execution_count": 1,
   "metadata": {},
   "outputs": [
    {
     "name": "stdout",
     "output_type": "stream",
     "text": [
      "[[100 230 212]\n",
      " [110 344 170]\n",
      " [120 380 190]]\n"
     ]
    }
   ],
   "source": [
    "import numpy as np\n",
    "\n",
    "revenue = np.array([[180, 240, 220], [200, 360, 180], [220, 400, 200]])\n",
    "expenses = np.array([[80, 10, 8], [90, 16, 10], [100, 20, 10]])\n",
    "\n",
    "profit_loss = revenue - expenses\n",
    "print(profit_loss)\n"
   ]
  },
  {
   "cell_type": "code",
   "execution_count": 5,
   "metadata": {},
   "outputs": [
    {
     "name": "stdout",
     "output_type": "stream",
     "text": [
      "[[30000  2000  2400]\n",
      " [40000  4000  6000]\n",
      " [50000  6000  8400]]\n",
      "[106000  27000  12400]\n"
     ]
    }
   ],
   "source": [
    "#dot product\n",
    "price = np.array([1000, 400, 1200])\n",
    "units = np.array([[30,5,2],[40,10,5],[50,15,7]])\n",
    "\n",
    "mult = price*units\n",
    "print(mult)\n",
    "#read more on numpy broadcasting\n",
    "\n",
    "dot_product = np.dot(price,units)\n",
    "print(dot_product)"
   ]
  }
 ],
 "metadata": {
  "kernelspec": {
   "display_name": "base",
   "language": "python",
   "name": "python3"
  },
  "language_info": {
   "codemirror_mode": {
    "name": "ipython",
    "version": 3
   },
   "file_extension": ".py",
   "mimetype": "text/x-python",
   "name": "python",
   "nbconvert_exporter": "python",
   "pygments_lexer": "ipython3",
   "version": "3.11.5"
  }
 },
 "nbformat": 4,
 "nbformat_minor": 2
}
