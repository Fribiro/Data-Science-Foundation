{
 "cells": [
  {
   "cell_type": "code",
<<<<<<< HEAD
   "execution_count": 2,
=======
   "execution_count": 11,
>>>>>>> 023de7cfba7537ef2723c95e981079879d3dca17
   "metadata": {},
   "outputs": [
    {
     "name": "stdout",
     "output_type": "stream",
     "text": [
      "82 82\n",
<<<<<<< HEAD
=======
      "True\n",
      "[122 244 366] [224 256 288]\n",
      "[False False False]\n",
>>>>>>> 023de7cfba7537ef2723c95e981079879d3dca17
      "True\n"
     ]
    }
   ],
   "source": [
    "import numpy as np\n",
    "\n",
<<<<<<< HEAD
    "#distributive\n",
=======
    "#distributive law\n",
>>>>>>> 023de7cfba7537ef2723c95e981079879d3dca17
    "u = np.array([1,2,3])\n",
    "v = np.array([4,5,6])\n",
    "w = np.array([7,8,9])\n",
    "\n",
    "D1 = u.dot(v+w)\n",
    "D2 = u.dot(v) + u.dot(w)\n",
    "\n",
    "print(D1, D2)\n",
<<<<<<< HEAD
    "print(D1 == D2)"
=======
    "print(D1 == D2)\n",
    "\n",
    "#associative law\n",
    "A1 = u.dot(v.dot(w))\n",
    "A2 = np.dot(np.dot(u,v),w)\n",
    "\n",
    "print(A1, A2)\n",
    "print(A1 == A2)\n",
    "\n",
    "#commutative property\n",
    "b1 = u.dot(v)\n",
    "b2 = v.dot(u)\n",
    "\n",
    "print(b1 == b2)"
>>>>>>> 023de7cfba7537ef2723c95e981079879d3dca17
   ]
  }
 ],
 "metadata": {
  "kernelspec": {
   "display_name": "Python 3",
   "language": "python",
   "name": "python3"
  },
  "language_info": {
   "codemirror_mode": {
    "name": "ipython",
    "version": 3
   },
   "file_extension": ".py",
   "mimetype": "text/x-python",
   "name": "python",
   "nbconvert_exporter": "python",
   "pygments_lexer": "ipython3",
   "version": "3.12.0"
  }
 },
 "nbformat": 4,
 "nbformat_minor": 2
}
