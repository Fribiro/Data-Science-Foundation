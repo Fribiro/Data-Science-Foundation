{
 "cells": [
  {
   "cell_type": "code",
   "execution_count": 1,
   "metadata": {},
   "outputs": [
    {
     "data": {
      "text/plain": [
       "array([[15000, 16500, 18750],\n",
       "       [ 5100,  5925,  7875],\n",
       "       [ 8250, 10500, 13500],\n",
       "       [ 6000,  6375,  6750]])"
      ]
     },
     "execution_count": 1,
     "metadata": {},
     "output_type": "execute_result"
    }
   ],
   "source": [
    "import numpy as np\n",
    "\n",
    "rev_usd = np.array([[200,220,250],[68,79,105],[110,140,180],[80,85,90]])\n",
    "rev_inr = np.array([75])\n",
    "rev_usd*rev_inr"
   ]
  },
  {
   "cell_type": "code",
   "execution_count": 8,
   "metadata": {},
   "outputs": [
    {
     "name": "stdout",
     "output_type": "stream",
     "text": [
      "[[1000 1800  375]\n",
      " [ 200  390   75]\n",
      " [ 800 2100  780]]\n"
     ]
    }
   ],
   "source": [
    "price_per_unit = np.array([20,30,15])\n",
    "units = np.array([[50,60,25],[10,13,5],[40,70,52]])\n",
    "total_sales = units*price_per_unit\n",
    "\n",
    "print(total_sales)\n",
    "#wrong computation because of using rows of the matrix"
   ]
  },
  {
   "cell_type": "code",
   "execution_count": 6,
   "metadata": {},
   "outputs": [
    {
     "name": "stdout",
     "output_type": "stream",
     "text": [
      "[1900 2640 1430]\n"
     ]
    }
   ],
   "source": [
    "#total sales as a scala\n",
    "units = np.array([[50,60,25],[10,13,5],[40,70,52]])\n",
    "price_per_unit = np.array([20,30,15])\n",
    "\n",
    "total_sales = np.dot(price_per_unit,units)\n",
    "\n",
    "print(total_sales)\n",
    "#right operation to get totl sales of flowers per month"
   ]
  },
  {
   "cell_type": "code",
   "execution_count": 10,
   "metadata": {},
   "outputs": [
    {
     "name": "stdout",
     "output_type": "stream",
     "text": [
      "[3175  665 3680]\n"
     ]
    }
   ],
   "source": [
    "#wrong computation\n",
    "price_per_unit = np.array([20,30,15])\n",
    "units = np.array([[50,10,40],[60,13,70],[25,5,52]])\n",
    "total_sales = units*price_per_unit\n",
    "\n",
    "print(total_sales)"
   ]
  },
  {
   "cell_type": "code",
   "execution_count": 13,
   "metadata": {},
   "outputs": [
    {
     "data": {
      "text/plain": [
       "array([4., 5., 6.])"
      ]
     },
     "execution_count": 13,
     "metadata": {},
     "output_type": "execute_result"
    }
   ],
   "source": [
    "#replacing nan\n",
    "data = np.array([[1, 2, 3], [4, np.nan, 6], [7, 8, 9]])\n",
    "mean = np.nanmean(data, axis=0)\n",
    "\n",
    "mean\n"
   ]
  },
  {
   "cell_type": "code",
   "execution_count": 20,
   "metadata": {},
   "outputs": [
    {
     "data": {
      "text/plain": [
       "array([[1., 2., 3.],\n",
       "       [4., 5., 6.],\n",
       "       [7., 8., 9.]])"
      ]
     },
     "execution_count": 20,
     "metadata": {},
     "output_type": "execute_result"
    }
   ],
   "source": [
    "#singular value decomposition\n",
    "data = np.array([[1, 2, 3], [4, 5, 6],[7, 8, 9]])\n",
    "\n",
    "np.linalg.svd(data, full_matrices=False, compute_uv=True, hermitian=False)\n",
    "\n",
    "u, s, v = np.linalg.svd(data)\n",
    "k = 2\n",
    "reduced_data = u[:, :k] @ np.diag(s[:k]) @ v[:k, :]\n",
    "\n",
    "reduced_data"
   ]
  },
  {
   "cell_type": "code",
   "execution_count": null,
   "metadata": {},
   "outputs": [],
   "source": [
    "#covariance\n",
    "financial_data = np.array([[100, 5, 500, 0.02], [120, 6, 550, 0.015], [90, 4, 480, 0.025]])\n",
    "financial_data_transposed = financial_data.T\n",
    "\n",
    "covariance_matrix = np.cov(financial_data_transposed)\n",
    "\n",
    "print(\"Covariance Matrix:\")\n",
    "print(covariance_matrix)\n",
    "\n",
    "max_covariance_indices = np.unravel_index(np.argmax(covariance_matrix), covariance_matrix.shape)\n",
    "\n",
    "\n",
    "feature_names = ['Stock Price', 'Earnings per Share', 'Market Cap', 'Volatility']\n",
    "feature1_name = feature_names[max_covariance_indices[0]]\n",
    "feature2_name = feature_names[max_covariance_indices[1]]\n",
    "\n",
    "max_covariance_value = covariance_matrix[max_covariance_indices]\n",
    "\n",
    "print(f\"\\nThe largest positive covariance is between '{feature1_name}'\")"
   ]
  }
 ],
 "metadata": {
  "kernelspec": {
   "display_name": "base",
   "language": "python",
   "name": "python3"
  },
  "language_info": {
   "codemirror_mode": {
    "name": "ipython",
    "version": 3
   },
   "file_extension": ".py",
   "mimetype": "text/x-python",
   "name": "python",
   "nbconvert_exporter": "python",
   "pygments_lexer": "ipython3",
   "version": "3.11.5"
  }
 },
 "nbformat": 4,
 "nbformat_minor": 2
}
